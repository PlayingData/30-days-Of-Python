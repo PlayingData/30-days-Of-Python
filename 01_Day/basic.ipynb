{
 "cells": [
  {
   "cell_type": "markdown",
   "metadata": {},
   "source": [
    "# 30 Days of Python: Day 01 - Python Basics \n",
    "\n",
    "In python, We have learn first syntax, variables and built-in functions. Built-in functions are globally available for your use that mean you can make use of the built-in functions without importing or configuring. Some of the most commonly used Python built-in functions are the following: \n",
    "*print(), len(), type(), int(), float(), str(), input(), list(), dict(), min(), max(), sum(), sorted(), open(), file(), help(), and dir().* \n",
    "In the following table you will see an exhaustive list of Python built-in functions taken from python documentation."
   ]
  },
  {
   "cell_type": "code",
   "execution_count": 1,
   "metadata": {},
   "outputs": [
    {
     "name": "stdout",
     "output_type": "stream",
     "text": [
      "Hello, World!\n"
     ]
    }
   ],
   "source": [
    "# print function\n",
    "print('Hello, World!')"
   ]
  },
  {
   "cell_type": "markdown",
   "metadata": {},
   "source": [
    "#### Variable\n",
    "\n",
    "Python has some rules on their creating varibleIn Python, variables are used to store values that can be used later in the program. Here are some rules to follow when using variables in Python:\n",
    "\n",
    "1. Variable names can only contain letters, numbers, and underscores. They cannot start with a number.\n",
    "\n",
    "2. Variable names should be descriptive and cannot be the same as a Python keyword.\n",
    "\n",
    "3. Variable names are case-sensitive. For example, the variable name `my_variable` is different from `myVariable` or `myvariable`.\n",
    "\n",
    "4. Python uses dynamic typing, which means that you can use the same variable to store values of different data types. For example, you could define a variable `my_var` and set it to a string value, like `my_var = \"hello\"`. Later in the program, you could set `my_var` to an integer value, like `my_var = 5`.\n",
    "\n",
    "5. It is a good practice to initialize a variable with a value when you declare it, but it is not required in Python. For example, you could define a variable `my_var` and set it to `None` like this: `my_var = None`. This is useful when you want to use the variable later in your program but don't have a specific value to assign to it yet.\n",
    "\n",
    "Finally, avoid using Python built-in function names as variable names, as it can cause confusion and errors in your program. For example, do not use the name sum as a variable name, since it is the name of a built-in function in Python that calculates the sum of a list of numbers."
   ]
  },
  {
   "cell_type": "code",
   "execution_count": 2,
   "metadata": {},
   "outputs": [],
   "source": [
    "# Variable\n",
    "number_1 = 1\n",
    "decimal_2 = 2"
   ]
  },
  {
   "cell_type": "code",
   "execution_count": 4,
   "metadata": {},
   "outputs": [
    {
     "name": "stdout",
     "output_type": "stream",
     "text": [
      "1\n",
      "2\n"
     ]
    }
   ],
   "source": [
    "print(number_1)\n",
    "print(decimal_2)"
   ]
  },
  {
   "cell_type": "code",
   "execution_count": 5,
   "metadata": {},
   "outputs": [],
   "source": [
    "# other variable initilized\n",
    "first_name = \"Sundarapandiyan\"\n",
    "SecondName = \"Thangraj\"\n",
    "Email_id = \"en.pandiyan@gmail\"\n",
    "country = \"India\"\n",
    "marks = [80, 45, 50, 89, 95]\n",
    "skills = [\"python\", \"SQL\", \"javascript\"]\n",
    "personal_info = {\n",
    "    'name': 'Sundarapandiyan',\n",
    "    'email-id': 'en.pandiyan@gmail.com',\n",
    "    'city': 'Salem'\n",
    "}"
   ]
  },
  {
   "cell_type": "code",
   "execution_count": 6,
   "metadata": {},
   "outputs": [
    {
     "name": "stdout",
     "output_type": "stream",
     "text": [
      "Sundarapandiyan\n",
      "India\n",
      "['python', 'SQL', 'javascript']\n",
      "{'name': 'Sundarapandiyan', 'email-id': 'en.pandiyan@gmail.com', 'city': 'Salem'}\n"
     ]
    }
   ],
   "source": [
    "# print statements\n",
    "print(first_name)\n",
    "print(country)\n",
    "print(skills)\n",
    "print(personal_info)"
   ]
  },
  {
   "cell_type": "markdown",
   "metadata": {},
   "source": [
    "#### Data types\n",
    "\n",
    "In Python, data types are used to classify and store different types of data. Python has several built-in data types, including:\n",
    "\n",
    "- `str`: This data type is used to store strings, which are sequences of characters. Strings can be enclosed in single quotes `(')` or double quotes `(\")`, and they can contain letters, numbers, and special characters. For example: `\"hello\"`, `'hello world'`, `\"1234\"`.\n",
    "- `int`: This data type is used to store integer values, which are numbers without a decimal point. For example: 1, 2, 3.\n",
    "- `float`: This data type is used to store floating-point values, which are numbers with a decimal point. For example: 1.0, 2.5, 3.14.\n",
    "- `bool`: This data type is used to store Boolean values, which are either `True` or `False`. For example: `True`, `False`.\n",
    "- `list`: This data type is used to store a list of values. A `list` can contain values of different data types, and the values in a list are separated by commas and enclosed in square brackets `([])`. For example: `[1, 2, 3]`, `[\"apple\", \"banana\", \"cherry\"]`, `[True, False, True]`.\n",
    "- `tuple`: This data type is similar to a list, but the values in a tuple are enclosed in parentheses `(())` and cannot be changed once they are set. For example: `(1, 2, 3)`, `(\"apple\", \"banana\", \"cherry\")`, `(True, False, True)`.\n",
    "- `dict`: This data type is used to store a dictionary, which is a collection of key-value pairs. In a dictionary, each key is mapped to a value, and the key-value pairs are separated by commas and enclosed in curly braces `({})`. For example:` {\"apple\": 1, \"banana\": 2, \"cherry\": 3}`.\n",
    "\n",
    "You can use the `type()` function in Python to find out the data type of a particular value. For example, `type(\"hello\")` would return `str`, `type(1)` would return `int`, and `type([1, 2, 3])` would return `list`.\n"
   ]
  },
  {
   "cell_type": "code",
   "execution_count": 20,
   "metadata": {},
   "outputs": [
    {
     "name": "stdout",
     "output_type": "stream",
     "text": [
      "<class 'str'>\n",
      "<class 'str'>\n",
      "<class 'int'>\n",
      "<class 'float'>\n",
      "<class 'complex'>\n",
      "<class 'bool'>\n",
      "<class 'list'>\n",
      "<class 'dict'>\n",
      "<class 'tuple'>\n",
      "<class 'zip'>\n"
     ]
    }
   ],
   "source": [
    "# Different python data types\n",
    "# Let's declare variables with various data types\n",
    "\n",
    "first_name = 'Sundarapandyan'     # str\n",
    "SecondName = 'Thangaraj'       # str\n",
    "country = 'India'         # str\n",
    "city= 'Salem'            # str\n",
    "age = 28                  # int, it is not my real age, don't worry about it\n",
    "\n",
    "# Printing out types\n",
    "print(type('Sundarapandiyan'))     # str\n",
    "print(type(first_name))            # str\n",
    "print(type(10))                # int\n",
    "print(type(3.14))           # float\n",
    "print(type(1 + 1j))         # complex\n",
    "print(type(True))           # bool\n",
    "print(type([1, 2, 3, 4]))     # list\n",
    "print(type({'name':'Sundarapandiyan','age':28, 'is_married': False}))    # dict\n",
    "print(type((1,2)))                                              # tuple\n",
    "print(type(zip([1,2],[3,4])))                                   # set"
   ]
  },
  {
   "cell_type": "markdown",
   "metadata": {},
   "source": [
    "#### Build-in functions\n",
    "\n",
    "In Python, built-in functions are functions that are included in the Python standard library and are available to use in your code without having to import them from any external library. These functions are written in C, which makes them faster and more efficient than regular Python functions.\n",
    "\n",
    "Here are some examples of built-in functions in Python:\n",
    "\n",
    "1. `len()`: This function returns the length of a string, list, tuple, or dictionary. For example, `len(\"hello\")` would return `5`, and `len([1, 2, 3])` would return `3`.\n",
    "2. `max()` and `min()`: These functions return the maximum and minimum value in a list or tuple of numbers. For example, `max([1, 2, 3])` would return `3`, and `min([1, 2, 3])` would return `1`.\n",
    "3. `sum()`: This function returns the sum of all the numbers in a list or tuple. For example, `sum([1, 2, 3])` would return 6.\n",
    "4. `sorted()`: This function takes a list or tuple of numbers and returns a new list with the numbers sorted in ascending order. For example, `sorted([3, 1, 2])` would return `[1, 2, 3]`.\n",
    "5. `print()`: This function prints a string or the values of variables to the console. For example, `print(\"hello world\")` would print hello world to the console.\n",
    "\n",
    "These are just a few examples of built-in functions in Python. There are many more built-in functions available in the Python standard library, and you can learn more about them in the [Python documentation](https://docs.python.org/3/library/functions.html).\n",
    "\n",
    "\n",
    "\n",
    "\n"
   ]
  },
  {
   "cell_type": "code",
   "execution_count": 9,
   "metadata": {},
   "outputs": [
    {
     "name": "stdout",
     "output_type": "stream",
     "text": [
      "6\n",
      "5\n",
      "0\n"
     ]
    }
   ],
   "source": [
    "# lets create list \n",
    "lst = [0,1, 2, 3, 4, 5]\n",
    "\n",
    "print(len(lst))     \n",
    "print(max(lst))\n",
    "print(min(lst))"
   ]
  },
  {
   "cell_type": "code",
   "execution_count": 15,
   "metadata": {},
   "outputs": [
    {
     "name": "stdout",
     "output_type": "stream",
     "text": [
      "[4, 23, 34, 35, 78, 93]\n",
      "[93, 4, 34, 78, 35, 23]\n",
      "[4, 23, 34, 35, 78, 93]\n"
     ]
    }
   ],
   "source": [
    "# sorting a list\n",
    "a_lst = [93, 4, 34, 78,35, 23]\n",
    "\n",
    "print(sorted(a_lst))  # sorted format at once \n",
    "print(a_lst)\n",
    "a_lst.sort()   # dot sorting format. it will change entire list indexing\n",
    "print(a_lst)"
   ]
  },
  {
   "cell_type": "code",
   "execution_count": 16,
   "metadata": {},
   "outputs": [
    {
     "data": {
      "text/plain": [
       "267"
      ]
     },
     "execution_count": 16,
     "metadata": {},
     "output_type": "execute_result"
    }
   ],
   "source": [
    "# sum funtion\n",
    "sum(a_lst)"
   ]
  },
  {
   "cell_type": "code",
   "execution_count": 19,
   "metadata": {},
   "outputs": [
    {
     "name": "stdout",
     "output_type": "stream",
     "text": [
      "SUNDARAPANDIYAN\n",
      "sundarapandiyan\n",
      "India\n",
      "4\n"
     ]
    }
   ],
   "source": [
    "# some other built-in function using string manipulation\n",
    "print(first_name.upper())  # upper case\n",
    "print(first_name.lower())  # lower case\n",
    "print(country.title())     # title case\n",
    "print(first_name.count('a'))# count the element into the string or integer."
   ]
  },
  {
   "cell_type": "markdown",
   "metadata": {},
   "source": [
    "#### Math operations\n",
    "\n",
    "Math operations are operations that are used to perform mathematical calculations. These operations are commonly used in programming languages to perform calculations and make decisions based on the results.\n",
    "\n",
    "Here are some examples of math operations in Python:\n",
    "\n",
    "1. Addition: This operation adds two or more numbers together and returns the result. In Python, the `+` operator is used for addition. For example: `1 + 2` would return `3`.\n",
    "\n",
    "2. Subtraction: This operation subtracts one number from another and returns the result. In Python, the `-` operator is used for subtraction. For example: `5 - 2` would return `3`.\n",
    "\n",
    "3. Multiplication: This operation multiplies two or more numbers together and returns the result. In Python, the `*` operator is used for multiplication. For example:`2 * 3` would return `6`.\n",
    "\n",
    "4. Division: This operation divides one number by another and returns the result. In Python, the `/` operator is used for division. For example: `6 / 3` would return `2`.\n",
    "\n",
    "5. Exponentiation: This operation raises a number to a power and returns the result. In Python, the `**` operator is used for exponentiation. For example: `2 ** 3` would return `8`.\n",
    "\n",
    "These are just some examples of math operations in Python. There are many other math operations available in Python, and you can learn more about them in the Python documentation.\n",
    "\n"
   ]
  },
  {
   "cell_type": "code",
   "execution_count": 21,
   "metadata": {},
   "outputs": [
    {
     "name": "stdout",
     "output_type": "stream",
     "text": [
      "10 + 34 = 44\n",
      "10 - 34 = -24\n",
      "10 * 34 = 340\n",
      "10 / 34 = 3.4\n",
      "10 ** 2 = 100\n",
      "34 ** 3 = 39304\n"
     ]
    }
   ],
   "source": [
    "x = 10\n",
    "y = 34\n",
    "\n",
    "addition = x + y\n",
    "subtraction = x - y\n",
    "multiplication = x * y\n",
    "division = y / x\n",
    "squre = x ** 2\n",
    "squre_d = y ** 3\n",
    "\n",
    "print(f\"{x} + {y} = {addition}\")\n",
    "print(f\"{x} - {y} = {subtraction}\")\n",
    "print(f\"{x} * {y} = {multiplication}\")\n",
    "print(f\"{x} / {y} = {division}\")\n",
    "print(f\"{x} ** 2 = {squre}\")\n",
    "print(f\"{y} ** 3 = {squre_d}\")"
   ]
  }
 ],
 "metadata": {
  "kernelspec": {
   "display_name": "Python 3.11.0 64-bit",
   "language": "python",
   "name": "python3"
  },
  "language_info": {
   "codemirror_mode": {
    "name": "ipython",
    "version": 3
   },
   "file_extension": ".py",
   "mimetype": "text/x-python",
   "name": "python",
   "nbconvert_exporter": "python",
   "pygments_lexer": "ipython3",
   "version": "3.11.0"
  },
  "orig_nbformat": 4,
  "vscode": {
   "interpreter": {
    "hash": "9b4d75ac280b6c7c3aa43866cb82dc88915409b55fec83a093dd0284cb58708e"
   }
  }
 },
 "nbformat": 4,
 "nbformat_minor": 2
}
